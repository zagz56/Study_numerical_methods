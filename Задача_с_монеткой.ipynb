{
  "nbformat": 4,
  "nbformat_minor": 0,
  "metadata": {
    "colab": {
      "provenance": []
    },
    "kernelspec": {
      "name": "python3",
      "display_name": "Python 3"
    },
    "language_info": {
      "name": "python"
    }
  },
  "cells": [
    {
      "cell_type": "code",
      "source": [
        "import random\n",
        "from fractions import Fraction"
      ],
      "metadata": {
        "id": "doWh3WMGUFgo"
      },
      "execution_count": null,
      "outputs": []
    },
    {
      "cell_type": "code",
      "source": [
        "def experiment():\n",
        "    flips = []\n",
        "    while True:\n",
        "        flip = random.choice(['О', 'Р'])\n",
        "        flips.append(flip)\n",
        "        if len(flips) >= 3:\n",
        "            last_three = flips[-3:]\n",
        "            if last_three == ['О', 'Р', 'Р'] or last_three == ['О', 'О', 'Р']:\n",
        "                # print(len(flips), '|', *flips)\n",
        "                return ' '.join(last_three)\n",
        "\n",
        "# Количество испытаний\n",
        "m = 100\n",
        "\n",
        "results = {'О Р Р': 0, 'О О Р': 0}\n",
        "\n",
        "for _ in range(m):\n",
        "    outcome = experiment()\n",
        "    results[outcome] += 1\n",
        "\n",
        "\n",
        "print()\n",
        "for outcome, count in results.items():\n",
        "    probability = Fraction(count, m)\n",
        "    probability_percent = count / m * 100\n",
        "    print(f'{outcome}: выпало раньше {count} раз из {m} испытаний (Вероятность: {probability} или {probability_percent:.2f}%)')\n"
      ],
      "metadata": {
        "colab": {
          "base_uri": "https://localhost:8080/"
        },
        "id": "wjCRdBDiUqzx",
        "outputId": "deee62d8-3e40-4184-deb6-a3c775f9f7a0"
      },
      "execution_count": null,
      "outputs": [
        {
          "output_type": "stream",
          "name": "stdout",
          "text": [
            "\n",
            "О Р Р: выпало раньше 33 раз из 100 испытаний (Вероятность: 33/100 или 33.00%)\n",
            "О О Р: выпало раньше 67 раз из 100 испытаний (Вероятность: 67/100 или 67.00%)\n"
          ]
        }
      ]
    },
    {
      "cell_type": "code",
      "source": [
        "def experiment():\n",
        "    flips = []\n",
        "    flips.append('О')\n",
        "    flips.append('Р')\n",
        "    while True:\n",
        "        flip = random.choice(['О', 'Р'])\n",
        "        flips.append(flip)\n",
        "        if len(flips) >= 3:\n",
        "            last_three = flips[-3:]\n",
        "            if last_three == ['О', 'Р', 'Р'] or last_three == ['О', 'О', 'Р']:\n",
        "#                print(len(flips), '|', *flips)\n",
        "                return ' '.join(last_three)\n",
        "\n",
        "# Количество испытаний\n",
        "m = 10000\n",
        "\n",
        "results = {'О Р Р': 0, 'О О Р': 0}\n",
        "\n",
        "for _ in range(m):\n",
        "    outcome = experiment()\n",
        "    results[outcome] += 1\n",
        "\n",
        "for outcome, count in results.items():\n",
        "    probability = Fraction(count, m)\n",
        "    probability_percent = count / m * 100\n",
        "    print(f'{outcome}: выпало раньше {count} раз из {m} испытаний, если первые две О Р (Вероятность: {probability} или {probability_percent:.2f}%)')"
      ],
      "metadata": {
        "colab": {
          "base_uri": "https://localhost:8080/"
        },
        "id": "R6joqd8GdETH",
        "outputId": "8bef1d24-b285-4e2e-aeda-f39b4138f986"
      },
      "execution_count": null,
      "outputs": [
        {
          "output_type": "stream",
          "name": "stdout",
          "text": [
            "О Р Р: выпало раньше 66508 раз из 100000 испытаний, если первые две О Р (Вероятность: 16627/25000 или 66.51%)\n",
            "О О Р: выпало раньше 33492 раз из 100000 испытаний, если первые две О Р (Вероятность: 8373/25000 или 33.49%)\n"
          ]
        }
      ]
    }
  ]
}